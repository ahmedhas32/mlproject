{
 "cells": [
  {
   "cell_type": "code",
   "execution_count": 1,
   "metadata": {},
   "outputs": [],
   "source": [
    "my_string=\"first \\n second\""
   ]
  },
  {
   "cell_type": "code",
   "execution_count": 2,
   "metadata": {},
   "outputs": [
    {
     "name": "stdout",
     "output_type": "stream",
     "text": [
      "first \n",
      " second\n"
     ]
    }
   ],
   "source": [
    "print(my_string)"
   ]
  },
  {
   "cell_type": "code",
   "execution_count": 3,
   "metadata": {},
   "outputs": [
    {
     "name": "stdout",
     "output_type": "stream",
     "text": [
      "user Omar Ezzat is deleted\n",
      "['Ahmed Hassan', 'Ali Alex']\n",
      "we have 2 members in our site\n",
      "كسم حياتي\n",
      "<class '__main__.Member_chk'>\n",
      "<class 'str'>\n"
     ]
    }
   ],
   "source": [
    "class Member_chk:\n",
    "   members_list=[]\n",
    "   #userNum = 0 \n",
    "   not_allowed_names = ['kharboush','kevin']\n",
    "   def __init__ (self,name,last):\n",
    "      #self.name=input_must_chk(\"please insert your name\")\n",
    "      self.name = name\n",
    "      if self.name in Member_chk.not_allowed_names:\n",
    "             raise ValueError (\"insert a valid name\")\n",
    "      else :\n",
    "          pass\n",
    "      self.last = last\n",
    "      #self.last = input_must_chk(\"please insert your last name\")\n",
    "      #self.gender = get_user_input(\"Please select your gender\",['male' , 'female'])\n",
    "      self.gender = \"male\"\n",
    "      self.full_name = f\"{self.name.capitalize()} {self.last.capitalize()}\"\n",
    "\n",
    "      Member_chk.members_list.append(self.full_name)\n",
    "\n",
    "\n",
    "   def salutation(self):\n",
    "       if self.gender == 'female':\n",
    "          return 'Ms.'\n",
    "       else :\n",
    "          return 'Mr.'\n",
    "       \n",
    "\n",
    "\n",
    "   def callMember(self):\n",
    "             return (f\"Hello {self.salutation()} {self.name} {self.last:.5s}\")\n",
    "   \n",
    "   def deleteMember(self):\n",
    "        Member_chk.members_list.remove(self.full_name)\n",
    "        print(f\"user {self.full_name} is deleted\")\n",
    "   @classmethod\n",
    "   def show_users_count(cls):\n",
    "       print(f\"we have {len(cls.members_list)} members in our site\")\n",
    "   @staticmethod\n",
    "   def obama():\n",
    "       print(f\"كسم حياتي\")\n",
    "       \n",
    "       \n",
    "\n",
    "\n",
    "member1 = Member_chk('ahmed','hassan')\n",
    "member2 = Member_chk('ali','alex')\n",
    "member3 = Member_chk('omar','ezzat')\n",
    "\n",
    "# member4 = Member_chk()\n",
    "\n",
    "# member5 = Member_chk()\n",
    "\n",
    "\n",
    "# # # print(member2.name)\n",
    "\n",
    "# print(member1.callMember())\n",
    "\n",
    "# print(member2.callMember())\n",
    "\n",
    "# print(Member_chk.members_list)\n",
    "\n",
    "member3.deleteMember()\n",
    "\n",
    "print(Member_chk.members_list)\n",
    "Member_chk.show_users_count()\n",
    "Member_chk.obama()\n",
    "\n",
    "print(member1.__class__)\n",
    "\n",
    "print(type(member1.last))"
   ]
  },
  {
   "cell_type": "code",
   "execution_count": 4,
   "metadata": {},
   "outputs": [
    {
     "name": "stdout",
     "output_type": "stream",
     "text": [
      "AHMED\n"
     ]
    }
   ],
   "source": [
    "print(str(\"Ahmed\").upper())"
   ]
  },
  {
   "cell_type": "code",
   "execution_count": 5,
   "metadata": {},
   "outputs": [
    {
     "name": "stdout",
     "output_type": "stream",
     "text": [
      "AHMED\n"
     ]
    }
   ],
   "source": [
    "print(\"Ahmed\".upper())"
   ]
  },
  {
   "cell_type": "code",
   "execution_count": 6,
   "metadata": {},
   "outputs": [
    {
     "name": "stdout",
     "output_type": "stream",
     "text": [
      "['__abstractmethods__', '__base__', '__bases__', '__basicsize__', '__call__', '__class__', '__delattr__', '__dict__', '__dictoffset__', '__dir__', '__doc__', '__eq__', '__flags__', '__format__', '__ge__', '__getattribute__', '__gt__', '__hash__', '__init__', '__init_subclass__', '__instancecheck__', '__itemsize__', '__le__', '__lt__', '__module__', '__mro__', '__name__', '__ne__', '__new__', '__prepare__', '__qualname__', '__reduce__', '__reduce_ex__', '__repr__', '__setattr__', '__sizeof__', '__str__', '__subclasscheck__', '__subclasses__', '__subclasshook__', '__text_signature__', '__weakrefoffset__', 'mro']\n"
     ]
    }
   ],
   "source": [
    "print(dir(type))"
   ]
  },
  {
   "cell_type": "code",
   "execution_count": 7,
   "metadata": {},
   "outputs": [],
   "source": [
    "\n",
    "class Skill:\n",
    "\n",
    "  def __init__(self):\n",
    "\n",
    "    self.skills = [\"Html\", \"Css\", \"Js\"]\n",
    "\n",
    "  def __str__(self):\n",
    "\n",
    "     return f\"This is My Skills => {self.skills}\"\n",
    "\n",
    "  def __len__(self):\n",
    "\n",
    "    return len(self.skills)"
   ]
  },
  {
   "cell_type": "code",
   "execution_count": 8,
   "metadata": {},
   "outputs": [],
   "source": [
    "\n",
    "profile = Skill()"
   ]
  },
  {
   "cell_type": "code",
   "execution_count": 9,
   "metadata": {},
   "outputs": [
    {
     "data": {
      "text/plain": [
       "3"
      ]
     },
     "execution_count": 9,
     "metadata": {},
     "output_type": "execute_result"
    }
   ],
   "source": [
    "len(profile)"
   ]
  },
  {
   "cell_type": "code",
   "execution_count": 10,
   "metadata": {},
   "outputs": [
    {
     "data": {
      "text/plain": [
       "<__main__.Member_chk at 0x1e8cf9f3400>"
      ]
     },
     "execution_count": 10,
     "metadata": {},
     "output_type": "execute_result"
    }
   ],
   "source": [
    "member1"
   ]
  },
  {
   "cell_type": "code",
   "execution_count": 11,
   "metadata": {},
   "outputs": [],
   "source": [
    "profile.skills.append(\"php\")"
   ]
  },
  {
   "cell_type": "code",
   "execution_count": 12,
   "metadata": {},
   "outputs": [
    {
     "data": {
      "text/plain": [
       "4"
      ]
     },
     "execution_count": 12,
     "metadata": {},
     "output_type": "execute_result"
    }
   ],
   "source": [
    "len(profile)"
   ]
  },
  {
   "cell_type": "code",
   "execution_count": 13,
   "metadata": {},
   "outputs": [
    {
     "data": {
      "text/plain": [
       "4"
      ]
     },
     "execution_count": 13,
     "metadata": {},
     "output_type": "execute_result"
    }
   ],
   "source": [
    "profile.__len__()"
   ]
  },
  {
   "cell_type": "code",
   "execution_count": 14,
   "metadata": {},
   "outputs": [
    {
     "data": {
      "text/plain": [
       "\"This is My Skills => ['Html', 'Css', 'Js', 'php']\""
      ]
     },
     "execution_count": 14,
     "metadata": {},
     "output_type": "execute_result"
    }
   ],
   "source": [
    "profile.__str__()"
   ]
  },
  {
   "cell_type": "code",
   "execution_count": 15,
   "metadata": {},
   "outputs": [
    {
     "name": "stdout",
     "output_type": "stream",
     "text": [
      "This is My Skills => ['Html', 'Css', 'Js', 'php']\n"
     ]
    }
   ],
   "source": [
    "print(profile)"
   ]
  },
  {
   "cell_type": "markdown",
   "metadata": {},
   "source": [
    "# Method Override"
   ]
  },
  {
   "cell_type": "code",
   "execution_count": 16,
   "metadata": {},
   "outputs": [],
   "source": [
    "class Food:\n",
    "    def __init__ (self,food):\n",
    "        self.food=food\n",
    "        print(f\"{self.food} from main class\")\n",
    "\n",
    "    def eat(self):\n",
    "        print(\"Apple from main class\")\n",
    "    \n",
    "class Apple(Food) :\n",
    "    def __init__ (self,food , amount):\n",
    "        #Food.__init__(self,food)\n",
    "        super().__init__(food) # creating instance from base class\n",
    "        self.amount=amount\n",
    "        print(f\"{self.food} from derived class with {self.amount} items\")\n",
    "\n",
    "    def alex(self):\n",
    "        print(\"tree\")\n",
    "    \n"
   ]
  },
  {
   "cell_type": "code",
   "execution_count": 17,
   "metadata": {},
   "outputs": [
    {
     "name": "stdout",
     "output_type": "stream",
     "text": [
      "Pizza from main class\n",
      "pizza from main class\n",
      "pizza from derived class with 170 items\n"
     ]
    }
   ],
   "source": [
    "food_one = Food('Pizza')\n",
    "food_two = Apple(\"pizza\",170)"
   ]
  },
  {
   "cell_type": "code",
   "execution_count": 18,
   "metadata": {},
   "outputs": [
    {
     "name": "stdout",
     "output_type": "stream",
     "text": [
      "tree\n"
     ]
    }
   ],
   "source": [
    "food_two.alex()"
   ]
  },
  {
   "cell_type": "code",
   "execution_count": 19,
   "metadata": {},
   "outputs": [
    {
     "data": {
      "text/plain": [
       "__main__.Apple"
      ]
     },
     "execution_count": 19,
     "metadata": {},
     "output_type": "execute_result"
    }
   ],
   "source": [
    "food_two.__class__"
   ]
  },
  {
   "cell_type": "code",
   "execution_count": 20,
   "metadata": {},
   "outputs": [
    {
     "name": "stdout",
     "output_type": "stream",
     "text": [
      "Apple from main class\n"
     ]
    }
   ],
   "source": [
    "food_two.eat()"
   ]
  },
  {
   "cell_type": "code",
   "execution_count": 21,
   "metadata": {},
   "outputs": [],
   "source": [
    "class Apple(Food) :\n",
    "    def __init__ (self,food , amount):\n",
    "        #Food.__init__(self,food)\n",
    "        super().__init__(food) # creating instance from base class\n",
    "        self.amount=amount\n",
    "        print(f\"{self.food} from derived class with {self.amount} items\")\n",
    "\n",
    "    def eat(self):\n",
    "        print(\"tree\")\n",
    "    \n"
   ]
  },
  {
   "cell_type": "code",
   "execution_count": 22,
   "metadata": {},
   "outputs": [
    {
     "name": "stdout",
     "output_type": "stream",
     "text": [
      "pizza from main class\n",
      "pizza from derived class with 170 items\n"
     ]
    }
   ],
   "source": [
    "food_two = Apple(\"pizza\",170)"
   ]
  },
  {
   "cell_type": "code",
   "execution_count": 23,
   "metadata": {},
   "outputs": [
    {
     "name": "stdout",
     "output_type": "stream",
     "text": [
      "tree\n"
     ]
    }
   ],
   "source": [
    "food_two.eat()"
   ]
  },
  {
   "cell_type": "markdown",
   "metadata": {},
   "source": [
    "# Multiple Inheritance"
   ]
  },
  {
   "cell_type": "code",
   "execution_count": 24,
   "metadata": {},
   "outputs": [],
   "source": [
    "# ---------------------------------------------------------\n",
    "# -- Object Oriented Programming => Multiple Inheritance --\n",
    "# ---------------------------------------------------------\n",
    "\n",
    "class BaseOne:\n",
    "\n",
    "  def __init__(self):\n",
    "\n",
    "    print(\"Base One\")\n",
    "\n",
    "  def func_one(self):\n",
    "\n",
    "    print(\"One\")\n",
    "\n",
    "class BaseTwo:\n",
    "\n",
    "  def __init__(self):\n",
    "\n",
    "    print(\"Base Two\")\n",
    "\n",
    "  def func_two(self):\n",
    "\n",
    "    print(\"Two\")\n",
    "\n",
    "class Derived(BaseOne, BaseTwo):\n",
    "\n",
    "  pass\n"
   ]
  },
  {
   "cell_type": "code",
   "execution_count": 25,
   "metadata": {},
   "outputs": [
    {
     "data": {
      "text/plain": [
       "[__main__.Derived, __main__.BaseOne, __main__.BaseTwo, object]"
      ]
     },
     "execution_count": 25,
     "metadata": {},
     "output_type": "execute_result"
    }
   ],
   "source": [
    "Derived.mro()"
   ]
  },
  {
   "cell_type": "code",
   "execution_count": 26,
   "metadata": {},
   "outputs": [
    {
     "name": "stdout",
     "output_type": "stream",
     "text": [
      "Base One\n"
     ]
    }
   ],
   "source": [
    "my_var = Derived()"
   ]
  },
  {
   "cell_type": "code",
   "execution_count": 27,
   "metadata": {},
   "outputs": [
    {
     "data": {
      "text/plain": [
       "['__class__',\n",
       " '__delattr__',\n",
       " '__dict__',\n",
       " '__dir__',\n",
       " '__doc__',\n",
       " '__eq__',\n",
       " '__format__',\n",
       " '__ge__',\n",
       " '__getattribute__',\n",
       " '__gt__',\n",
       " '__hash__',\n",
       " '__init__',\n",
       " '__init_subclass__',\n",
       " '__le__',\n",
       " '__lt__',\n",
       " '__module__',\n",
       " '__ne__',\n",
       " '__new__',\n",
       " '__reduce__',\n",
       " '__reduce_ex__',\n",
       " '__repr__',\n",
       " '__setattr__',\n",
       " '__sizeof__',\n",
       " '__str__',\n",
       " '__subclasshook__',\n",
       " '__weakref__',\n",
       " 'func_one',\n",
       " 'func_two']"
      ]
     },
     "execution_count": 27,
     "metadata": {},
     "output_type": "execute_result"
    }
   ],
   "source": [
    "dir(my_var)"
   ]
  },
  {
   "cell_type": "code",
   "execution_count": 28,
   "metadata": {},
   "outputs": [
    {
     "name": "stdout",
     "output_type": "stream",
     "text": [
      "One\n"
     ]
    }
   ],
   "source": [
    "my_var.func_one()"
   ]
  },
  {
   "cell_type": "markdown",
   "metadata": {},
   "source": [
    "# polymorphism"
   ]
  },
  {
   "cell_type": "code",
   "execution_count": 29,
   "metadata": {},
   "outputs": [
    {
     "name": "stdout",
     "output_type": "stream",
     "text": [
      "30\n",
      "Hello Python\n"
     ]
    }
   ],
   "source": [
    "# -------------------------------------------------\n",
    "# -- Object Oriented Programming => Polymorphism --\n",
    "# -------------------------------------------------\n",
    "\n",
    "n1 = 10\n",
    "n2 = 20\n",
    "\n",
    "print(n1 + n2)\n",
    "\n",
    "s1 = \"Hello\"\n",
    "s2 = \"Python\"\n",
    "\n",
    "print(s1 + \" \" + s2)\n"
   ]
  },
  {
   "cell_type": "code",
   "execution_count": 30,
   "metadata": {},
   "outputs": [
    {
     "name": "stdout",
     "output_type": "stream",
     "text": [
      "6\n",
      "12\n",
      "2\n"
     ]
    }
   ],
   "source": [
    "# len method satisfies polymorphism , it gives different output as per input type\n",
    "\n",
    "print(len([1, 2, 3, 4, 5, 6]))\n",
    "print(len(\"Osama Elzero\"))\n",
    "print(len({\"Key_One\": 1, \"Key_Two\": 2}))"
   ]
  },
  {
   "cell_type": "code",
   "execution_count": 31,
   "metadata": {},
   "outputs": [],
   "source": [
    "class A :\n",
    "    def __init__(self) -> None:\n",
    "        pass\n",
    "\n",
    "    def DoSomething (self):\n",
    "        print (\"From Class A\")\n",
    "        raise NotImplementedError (\"B not implemented \")\n",
    "    \n",
    "\n",
    "\n",
    "class B(A):\n",
    "    pass\n",
    "\n",
    "\n",
    "    "
   ]
  },
  {
   "cell_type": "code",
   "execution_count": 32,
   "metadata": {},
   "outputs": [
    {
     "name": "stdout",
     "output_type": "stream",
     "text": [
      "From Class A\n",
      "B not implemented\n"
     ]
    }
   ],
   "source": [
    "try : \n",
    "    B().DoSomething()\n",
    "\n",
    "except NotImplementedError: \n",
    "    print(\"B not implemented\")"
   ]
  },
  {
   "cell_type": "code",
   "execution_count": 33,
   "metadata": {},
   "outputs": [],
   "source": [
    "class A :\n",
    "    def __init__(self) -> None:\n",
    "        pass\n",
    "\n",
    "    def DoSomething (self):\n",
    "        print (\"From Class A\")\n",
    "        raise NotImplementedError (\"B not implemented \")\n",
    "    \n",
    "\n",
    "\n",
    "class B(A):\n",
    "        def __init__(self) -> None:\n",
    "            pass\n",
    "        def DoSomething (self):\n",
    "            print (\"From Class B\")\n",
    "\n",
    "\n",
    "    "
   ]
  },
  {
   "cell_type": "code",
   "execution_count": 34,
   "metadata": {},
   "outputs": [
    {
     "name": "stdout",
     "output_type": "stream",
     "text": [
      "From Class B\n"
     ]
    }
   ],
   "source": [
    "B().DoSomething()"
   ]
  },
  {
   "cell_type": "markdown",
   "metadata": {},
   "source": [
    "# Encapsulate"
   ]
  },
  {
   "cell_type": "code",
   "execution_count": 35,
   "metadata": {},
   "outputs": [],
   "source": [
    "# Public (view and update)\n",
    "\n",
    "class Hello:\n",
    "    def __init__(self , name) -> str:\n",
    "        \n",
    "        self.name = name\n",
    "    \n",
    "    def greet(self):\n",
    "        print (f\"Hello {self.name}\")"
   ]
  },
  {
   "cell_type": "code",
   "execution_count": 36,
   "metadata": {},
   "outputs": [],
   "source": [
    "Ahmed = Hello(\"Ahmed\")"
   ]
  },
  {
   "cell_type": "code",
   "execution_count": 37,
   "metadata": {},
   "outputs": [
    {
     "name": "stdout",
     "output_type": "stream",
     "text": [
      "Hello Ahmed\n"
     ]
    }
   ],
   "source": [
    "Ahmed.greet()"
   ]
  },
  {
   "cell_type": "code",
   "execution_count": 38,
   "metadata": {},
   "outputs": [],
   "source": [
    "Ahmed.name = \"Alex\""
   ]
  },
  {
   "cell_type": "code",
   "execution_count": 39,
   "metadata": {},
   "outputs": [
    {
     "name": "stdout",
     "output_type": "stream",
     "text": [
      "Hello Alex\n"
     ]
    }
   ],
   "source": [
    "Ahmed.greet()"
   ]
  },
  {
   "cell_type": "code",
   "execution_count": 40,
   "metadata": {},
   "outputs": [],
   "source": [
    "# Protected (Attributes and Methods Can Be Accessed From Within The Class And Sub Classes)\n",
    "\n",
    "class Hello:\n",
    "    def __init__(self , name) -> str:\n",
    "        \n",
    "        self._name = name\n",
    "    \n",
    "    def greet(self):\n",
    "        print (f\"Hello {self._name}\")"
   ]
  },
  {
   "cell_type": "code",
   "execution_count": 41,
   "metadata": {},
   "outputs": [],
   "source": [
    "Ahmed = Hello(\"Ahmed\")"
   ]
  },
  {
   "cell_type": "code",
   "execution_count": 42,
   "metadata": {},
   "outputs": [],
   "source": [
    "Ahmed._name = \"Alex\"\n",
    "\n",
    "# despite i did it already , it SHOULD not be accessed out of class or\n",
    "#  sub classes (classes that enheretad our class)"
   ]
  },
  {
   "cell_type": "code",
   "execution_count": 43,
   "metadata": {},
   "outputs": [
    {
     "name": "stdout",
     "output_type": "stream",
     "text": [
      "Hello Alex\n"
     ]
    }
   ],
   "source": [
    "Ahmed.greet()"
   ]
  },
  {
   "cell_type": "code",
   "execution_count": 44,
   "metadata": {},
   "outputs": [],
   "source": [
    "# Private (Attributes and Methods Can Be Accessed From Within The Class Or Object Only)\n",
    "\n",
    "class Hello:\n",
    "    def __init__(self ,name) -> str:\n",
    "        \n",
    "        self.__name = name\n",
    "    \n",
    "    def greet(self):\n",
    "        print (f\"Hello {self.__name}\")"
   ]
  },
  {
   "cell_type": "code",
   "execution_count": 45,
   "metadata": {},
   "outputs": [],
   "source": [
    "Ahmed = Hello(\"Ahmed\")"
   ]
  },
  {
   "cell_type": "code",
   "execution_count": 46,
   "metadata": {},
   "outputs": [
    {
     "name": "stdout",
     "output_type": "stream",
     "text": [
      "Hello Ahmed\n"
     ]
    }
   ],
   "source": [
    "Ahmed.greet()"
   ]
  },
  {
   "cell_type": "code",
   "execution_count": 47,
   "metadata": {},
   "outputs": [],
   "source": [
    "Ahmed.__name = \"Alex\""
   ]
  },
  {
   "cell_type": "code",
   "execution_count": 48,
   "metadata": {},
   "outputs": [
    {
     "name": "stdout",
     "output_type": "stream",
     "text": [
      "Hello Ahmed\n"
     ]
    }
   ],
   "source": [
    "Ahmed.greet()\n",
    "# this does not work this time \n"
   ]
  },
  {
   "cell_type": "code",
   "execution_count": 49,
   "metadata": {},
   "outputs": [],
   "source": [
    "Ahmed._Hello__name = \"Alex\""
   ]
  },
  {
   "cell_type": "code",
   "execution_count": 50,
   "metadata": {},
   "outputs": [
    {
     "name": "stdout",
     "output_type": "stream",
     "text": [
      "Hello Alex\n"
     ]
    }
   ],
   "source": [
    "Ahmed.greet()\n",
    "# now it works\n",
    "# despite i did it already , it SHOULD not be accessed out of class "
   ]
  },
  {
   "cell_type": "markdown",
   "metadata": {},
   "source": [
    "# getters & setters"
   ]
  },
  {
   "cell_type": "code",
   "execution_count": 51,
   "metadata": {},
   "outputs": [],
   "source": [
    "class Hello:\n",
    "    def __init__(self ,name) -> str:\n",
    "        \n",
    "        self.__name = name\n",
    "    \n",
    "    def greet(self):\n",
    "        print (f\"Hello {self.__name}\")\n",
    "\n",
    "    def set_name (self , new_name): # setter\n",
    "        self.__name = new_name\n",
    "    def get_name(self): #getter\n",
    "        return self.__name"
   ]
  },
  {
   "cell_type": "code",
   "execution_count": 52,
   "metadata": {},
   "outputs": [],
   "source": [
    "Ahmed = Hello(\"Ahmed\")"
   ]
  },
  {
   "cell_type": "code",
   "execution_count": 53,
   "metadata": {},
   "outputs": [
    {
     "data": {
      "text/plain": [
       "'Ahmed'"
      ]
     },
     "execution_count": 53,
     "metadata": {},
     "output_type": "execute_result"
    }
   ],
   "source": [
    "Ahmed._Hello__name"
   ]
  },
  {
   "cell_type": "code",
   "execution_count": 54,
   "metadata": {},
   "outputs": [
    {
     "data": {
      "text/plain": [
       "'Ahmed'"
      ]
     },
     "execution_count": 54,
     "metadata": {},
     "output_type": "execute_result"
    }
   ],
   "source": [
    "# same result with getter\n",
    "Ahmed.get_name()"
   ]
  },
  {
   "cell_type": "code",
   "execution_count": 55,
   "metadata": {},
   "outputs": [],
   "source": [
    "Ahmed._Hello__name = \"Alex\""
   ]
  },
  {
   "cell_type": "code",
   "execution_count": 56,
   "metadata": {},
   "outputs": [],
   "source": [
    "# same result using \n",
    "Ahmed.set_name(\"Axel\")"
   ]
  },
  {
   "cell_type": "code",
   "execution_count": 57,
   "metadata": {},
   "outputs": [
    {
     "data": {
      "text/plain": [
       "'Axel'"
      ]
     },
     "execution_count": 57,
     "metadata": {},
     "output_type": "execute_result"
    }
   ],
   "source": [
    "Ahmed.get_name()"
   ]
  },
  {
   "cell_type": "markdown",
   "metadata": {},
   "source": [
    "# property decorator"
   ]
  },
  {
   "cell_type": "code",
   "execution_count": 58,
   "metadata": {},
   "outputs": [],
   "source": [
    "class Hello:\n",
    "    def __init__(self ,name , age) -> str:\n",
    "        \n",
    "        self.__name = name\n",
    "        self.age = age\n",
    "    \n",
    "    def greet(self):\n",
    "        print (f\"Hello {self.__name}\")\n",
    "\n",
    "    def set_name (self , new_name): # setter\n",
    "        self.__name = new_name\n",
    "    def get_name(self): #getter\n",
    "        return self.__name\n",
    "    \n",
    "    def age_years(self):\n",
    "        return self.age * 365"
   ]
  },
  {
   "cell_type": "code",
   "execution_count": 59,
   "metadata": {},
   "outputs": [],
   "source": [
    "Ahmed = Hello(\"Ahmed\" , 30)"
   ]
  },
  {
   "cell_type": "code",
   "execution_count": 60,
   "metadata": {},
   "outputs": [
    {
     "data": {
      "text/plain": [
       "<bound method Hello.age_years of <__main__.Hello object at 0x000001E8CFB269D0>>"
      ]
     },
     "execution_count": 60,
     "metadata": {},
     "output_type": "execute_result"
    }
   ],
   "source": [
    "Ahmed.age_years"
   ]
  },
  {
   "cell_type": "code",
   "execution_count": 61,
   "metadata": {},
   "outputs": [
    {
     "data": {
      "text/plain": [
       "10950"
      ]
     },
     "execution_count": 61,
     "metadata": {},
     "output_type": "execute_result"
    }
   ],
   "source": [
    "Ahmed.age_years()"
   ]
  },
  {
   "cell_type": "code",
   "execution_count": 62,
   "metadata": {},
   "outputs": [],
   "source": [
    "# Now we add property decorator to age_year method\n",
    "class Hello:\n",
    "    def __init__(self ,name , age) -> str:\n",
    "        \n",
    "        self.__name = name\n",
    "        self.age = age\n",
    "    \n",
    "    def greet(self):\n",
    "        print (f\"Hello {self.__name}\")\n",
    "\n",
    "    def set_name (self , new_name): # setter\n",
    "        self.__name = new_name\n",
    "    def get_name(self): #getter\n",
    "        return self.__name\n",
    "    @property\n",
    "    def age_years(self):\n",
    "        return self.age * 365"
   ]
  },
  {
   "cell_type": "code",
   "execution_count": 63,
   "metadata": {},
   "outputs": [],
   "source": [
    "Ahmed = Hello(\"Ahmed\" , 30)"
   ]
  },
  {
   "cell_type": "code",
   "execution_count": 64,
   "metadata": {},
   "outputs": [
    {
     "name": "stdout",
     "output_type": "stream",
     "text": [
      " since it became a property like the parameter age that we imputed with value 30  \n",
      "  we get it directly as  : 10950 without calling with the \"()\"\n"
     ]
    }
   ],
   "source": [
    "try : \n",
    "    Ahmed.age_years() # now it gives error because it is an int property now not a callable method\n",
    "\n",
    "except TypeError :\n",
    "    print(f\" since it became a property like the parameter age that we imputed with value {Ahmed.age}  \\n  we get it directly as  : {Ahmed.age_years} without calling with the \\\"()\\\"\")"
   ]
  },
  {
   "cell_type": "markdown",
   "metadata": {},
   "source": [
    "# ABC 's (Abstract base classes)"
   ]
  },
  {
   "cell_type": "code",
   "execution_count": 65,
   "metadata": {},
   "outputs": [],
   "source": [
    "# ----------------------------------------------------------------\n",
    "# -- Object Oriented Programming => ABCs => Abstract Base Class --\n",
    "# ----------------------------------------------------------------\n",
    "# - Class Called Abstract Class If it Has One or More Abstract Methods\n",
    "# - abc module in Python Provides Infrastructure for Defining Custom Abstract Base Classes.\n",
    "# - By Adding @absttractmethod Decorator on The Methods\n",
    "# - ABCMeta Class Is a Metaclass Used For Defining Abstract Base Class\n",
    "# --------------------------------------------------------------------\n",
    "\n",
    "from abc import ABCMeta, abstractmethod\n",
    "\n",
    "class Programming(metaclass=ABCMeta): \n",
    "    \"\"\"abstract class  not to return any thing , but all \n",
    "    enheriting classes should include these methods, with no need to __init__\"\"\" \n",
    "\n",
    "    @abstractmethod\n",
    "    def has_oop(self , name):\n",
    "\n",
    "        pass"
   ]
  },
  {
   "cell_type": "code",
   "execution_count": 66,
   "metadata": {},
   "outputs": [],
   "source": [
    "# Here inheriting method does not have \n",
    "class support_oop(Programming) : \n",
    "    pass"
   ]
  },
  {
   "cell_type": "code",
   "execution_count": 67,
   "metadata": {},
   "outputs": [
    {
     "name": "stdout",
     "output_type": "stream",
     "text": [
      "Can't instantiate abstract class ruby with abstract method has_oop\n"
     ]
    }
   ],
   "source": [
    "# gives error\n",
    "try : \n",
    "    support_oop()\n",
    "except TypeError : \n",
    "    print(\"Can't instantiate abstract class ruby with abstract method has_oop\")"
   ]
  },
  {
   "cell_type": "code",
   "execution_count": null,
   "metadata": {},
   "outputs": [],
   "source": []
  },
  {
   "cell_type": "code",
   "execution_count": 68,
   "metadata": {},
   "outputs": [],
   "source": [
    "class support_oop(Programming) : \n",
    "    \"\"\"\n",
    "    Note that below no need to initiate , just like any regular method\n",
    "    \"\"\"\n",
    "    \n",
    "    \n",
    "    def has_oop(self,name) : \n",
    "        oop_languages = [\"Java\", \"C++\", \"C#\", \"Python\", \"Ruby\", \"JavaScript\"]\n",
    "        non_oop_languages = [\"C\", \"Fortran\", \"Pascal\", \"Bash/Shell\", \"Assembly\"]\n",
    "        #name = input(\"please insert language name\").capitalize()\n",
    "        if name in oop_languages:\n",
    "            return (f\"language {name} has oop\")\n",
    "        elif name in non_oop_languages: \n",
    "            return (f\"language {name} has not oop\") \n",
    "        else :\n",
    "            return (f\"no provided info about {name}\")\n"
   ]
  },
  {
   "cell_type": "code",
   "execution_count": 69,
   "metadata": {},
   "outputs": [],
   "source": [
    "# now nothing prented , no error , we have the abstract method in the enheriting class\n",
    "try : \n",
    "    support_oop()\n",
    "except TypeError : \n",
    "    print(\"Can't instantiate abstract class ruby with abstract method has_oop\")"
   ]
  },
  {
   "cell_type": "code",
   "execution_count": 70,
   "metadata": {},
   "outputs": [
    {
     "name": "stdout",
     "output_type": "stream",
     "text": [
      "language Ruby has oop\n"
     ]
    }
   ],
   "source": [
    "try : \n",
    "    print(support_oop().has_oop(\"Ruby\"))\n",
    "except TypeError : \n",
    "    print(\"Can't instantiate abstract class ruby with abstract method has_oop\")"
   ]
  },
  {
   "cell_type": "markdown",
   "metadata": {},
   "source": [
    "# DataBases"
   ]
  },
  {
   "cell_type": "markdown",
   "metadata": {},
   "source": [
    "#  SQLite Create Database And Connect"
   ]
  },
  {
   "cell_type": "code",
   "execution_count": 71,
   "metadata": {},
   "outputs": [],
   "source": [
    "import sqlite3"
   ]
  },
  {
   "cell_type": "code",
   "execution_count": 72,
   "metadata": {},
   "outputs": [],
   "source": [
    "# db = sqlite3.connect(\"app.db\")\n",
    "# cr = db.cursor()\n",
    "# cr.execute(\"DROP TABLE skills\")"
   ]
  },
  {
   "cell_type": "code",
   "execution_count": 73,
   "metadata": {},
   "outputs": [
    {
     "data": {
      "text/plain": [
       "<sqlite3.Cursor at 0x1e8cfb50f10>"
      ]
     },
     "execution_count": 73,
     "metadata": {},
     "output_type": "execute_result"
    }
   ],
   "source": [
    "# Create Database And Connect\n",
    "db = sqlite3.connect(\"app.db\")\n",
    "\n",
    "# Create The Tables and Fields\n",
    "db.execute(\n",
    "    \"create table if not exists skills (name text, progress integer CHECK (integer BETWEEN 0 AND 100), user_id integer ,  PRIMARY KEY (user_id, name))\")\n",
    "\n"
   ]
  },
  {
   "cell_type": "code",
   "execution_count": 74,
   "metadata": {},
   "outputs": [],
   "source": [
    "import pandas as pd\n"
   ]
  },
  {
   "cell_type": "code",
   "execution_count": 75,
   "metadata": {},
   "outputs": [],
   "source": [
    "# Close Database\n",
    "#db.close()"
   ]
  },
  {
   "cell_type": "markdown",
   "metadata": {},
   "source": [
    "# SQLite Insert Data Into Database"
   ]
  },
  {
   "cell_type": "code",
   "execution_count": null,
   "metadata": {},
   "outputs": [],
   "source": []
  },
  {
   "cell_type": "code",
   "execution_count": 76,
   "metadata": {},
   "outputs": [],
   "source": [
    "# setting up the cursor\n",
    "cr = db.cursor()"
   ]
  },
  {
   "cell_type": "code",
   "execution_count": 77,
   "metadata": {},
   "outputs": [
    {
     "data": {
      "text/plain": [
       "<sqlite3.Cursor at 0x1e8d1e405e0>"
      ]
     },
     "execution_count": 77,
     "metadata": {},
     "output_type": "execute_result"
    }
   ],
   "source": [
    "# Create The Tables and Fields\n",
    "cr.execute(\"create table if not exists users (user_id integer, name text)\")\n",
    "cr.execute(\n",
    "    \"create table if not exists skills (name text, progress integer, user_id integer)\")"
   ]
  },
  {
   "cell_type": "code",
   "execution_count": 78,
   "metadata": {},
   "outputs": [
    {
     "data": {
      "text/plain": [
       "<sqlite3.Cursor at 0x1e8d1e405e0>"
      ]
     },
     "execution_count": 78,
     "metadata": {},
     "output_type": "execute_result"
    }
   ],
   "source": [
    "cr.execute(\"DELETE from users\")"
   ]
  },
  {
   "cell_type": "code",
   "execution_count": 79,
   "metadata": {},
   "outputs": [
    {
     "data": {
      "text/plain": [
       "<sqlite3.Cursor at 0x1e8d1e405e0>"
      ]
     },
     "execution_count": 79,
     "metadata": {},
     "output_type": "execute_result"
    }
   ],
   "source": [
    "\n",
    "# Inserting Data\n",
    "cr.execute(\"insert into users(user_id, name) values(1,\\\"Ahmed\\\")\")\n",
    "cr.execute(\"insert into users(user_id, name) values(2, 'Sayed')\")\n",
    "cr.execute(\"insert into users(user_id, name) values(3, 'Osama')\")\n",
    "cr.execute(\"insert into users(user_id, name) values(4, 'Salma')\")\n",
    "cr.execute(\"insert into users(user_id, name) values(5, 'Mohamed')\")\n",
    "\n",
    "\n",
    "# my_list = [\"Adel\", \"Sayed\", \"Mahmoud\", \"Ali\", \"Kamel\", \"Ibrahim\", \"Enas\"]\n",
    "\n",
    "# for key, user in enumerate(my_list):\n",
    "\n",
    "#     cr.execute(f\"insert into users(user_id, name) values({key + 4},  \\\"{user}\\\")\")\n",
    "\n",
    "# # Save (Commit) Changes\n",
    "# db.commit()"
   ]
  },
  {
   "cell_type": "code",
   "execution_count": null,
   "metadata": {},
   "outputs": [],
   "source": []
  },
  {
   "cell_type": "markdown",
   "metadata": {},
   "source": [
    "# fetching users"
   ]
  },
  {
   "cell_type": "code",
   "execution_count": 80,
   "metadata": {},
   "outputs": [
    {
     "data": {
      "text/plain": [
       "<sqlite3.Cursor at 0x1e8d1e405e0>"
      ]
     },
     "execution_count": 80,
     "metadata": {},
     "output_type": "execute_result"
    }
   ],
   "source": [
    "cr.execute(\"SELECT name FROM users\")"
   ]
  },
  {
   "cell_type": "code",
   "execution_count": 81,
   "metadata": {},
   "outputs": [
    {
     "data": {
      "text/plain": [
       "('Ahmed',)"
      ]
     },
     "execution_count": 81,
     "metadata": {},
     "output_type": "execute_result"
    }
   ],
   "source": [
    "cr.fetchone()"
   ]
  },
  {
   "cell_type": "code",
   "execution_count": 82,
   "metadata": {},
   "outputs": [
    {
     "data": {
      "text/plain": [
       "[('Sayed',), ('Osama',)]"
      ]
     },
     "execution_count": 82,
     "metadata": {},
     "output_type": "execute_result"
    }
   ],
   "source": [
    "cr.fetchmany(2)"
   ]
  },
  {
   "cell_type": "code",
   "execution_count": 83,
   "metadata": {},
   "outputs": [
    {
     "data": {
      "text/plain": [
       "[('Salma',), ('Mohamed',)]"
      ]
     },
     "execution_count": 83,
     "metadata": {},
     "output_type": "execute_result"
    }
   ],
   "source": [
    "cr.fetchall()"
   ]
  },
  {
   "cell_type": "markdown",
   "metadata": {},
   "source": [
    "# Databases – SQLite Training’s On Everything"
   ]
  },
  {
   "cell_type": "code",
   "execution_count": 84,
   "metadata": {},
   "outputs": [],
   "source": [
    "import sqlite3\n",
    "import pandas as pd\n",
    "\n",
    "def get_all_data(file , table):\n",
    "\n",
    "    try :\n",
    "        db = sqlite3.connect(file)\n",
    "        # setting up the cursor\n",
    "        cr = db.cursor()\n",
    "\n",
    "        # Execute an SQL query\n",
    "        cr.execute(f'SELECT * FROM {table}')\n",
    "\n",
    "        # Fetch all the rows as a list of tuples\n",
    "        data = cr.fetchall()\n",
    "\n",
    "\n",
    "\n",
    "        # Convert the list of tuples into a Pandas DataFrame\n",
    "        columns = [desc[0] for desc in cr.description]\n",
    "        df = pd.DataFrame(data, columns=columns)\n",
    "        return df\n",
    "    except sqlite3.Error as er:\n",
    "        print (f\"Error reading data : {er}\")\n",
    "\n",
    "    finally :\n",
    "\n",
    "        # Close the cursor and connection\n",
    "        cr.close()\n",
    "        db.close()\n",
    "\n",
    "\n",
    "\n",
    "\n"
   ]
  },
  {
   "cell_type": "code",
   "execution_count": 85,
   "metadata": {},
   "outputs": [],
   "source": [
    "df = get_all_data('app.db' , 'users')"
   ]
  },
  {
   "cell_type": "code",
   "execution_count": 86,
   "metadata": {},
   "outputs": [
    {
     "data": {
      "text/html": [
       "<div>\n",
       "<style scoped>\n",
       "    .dataframe tbody tr th:only-of-type {\n",
       "        vertical-align: middle;\n",
       "    }\n",
       "\n",
       "    .dataframe tbody tr th {\n",
       "        vertical-align: top;\n",
       "    }\n",
       "\n",
       "    .dataframe thead th {\n",
       "        text-align: right;\n",
       "    }\n",
       "</style>\n",
       "<table border=\"1\" class=\"dataframe\">\n",
       "  <thead>\n",
       "    <tr style=\"text-align: right;\">\n",
       "      <th></th>\n",
       "      <th>user_id</th>\n",
       "      <th>name</th>\n",
       "    </tr>\n",
       "  </thead>\n",
       "  <tbody>\n",
       "    <tr>\n",
       "      <th>0</th>\n",
       "      <td>1</td>\n",
       "      <td>Ahmed</td>\n",
       "    </tr>\n",
       "    <tr>\n",
       "      <th>1</th>\n",
       "      <td>2</td>\n",
       "      <td>Sayed</td>\n",
       "    </tr>\n",
       "    <tr>\n",
       "      <th>2</th>\n",
       "      <td>3</td>\n",
       "      <td>Osama</td>\n",
       "    </tr>\n",
       "    <tr>\n",
       "      <th>3</th>\n",
       "      <td>4</td>\n",
       "      <td>Adel</td>\n",
       "    </tr>\n",
       "    <tr>\n",
       "      <th>4</th>\n",
       "      <td>5</td>\n",
       "      <td>Sayed</td>\n",
       "    </tr>\n",
       "    <tr>\n",
       "      <th>5</th>\n",
       "      <td>6</td>\n",
       "      <td>Mahmoud</td>\n",
       "    </tr>\n",
       "    <tr>\n",
       "      <th>6</th>\n",
       "      <td>7</td>\n",
       "      <td>Ali</td>\n",
       "    </tr>\n",
       "    <tr>\n",
       "      <th>7</th>\n",
       "      <td>8</td>\n",
       "      <td>Kamel</td>\n",
       "    </tr>\n",
       "    <tr>\n",
       "      <th>8</th>\n",
       "      <td>9</td>\n",
       "      <td>Ibrahim</td>\n",
       "    </tr>\n",
       "    <tr>\n",
       "      <th>9</th>\n",
       "      <td>10</td>\n",
       "      <td>Enas</td>\n",
       "    </tr>\n",
       "  </tbody>\n",
       "</table>\n",
       "</div>"
      ],
      "text/plain": [
       "   user_id     name\n",
       "0        1    Ahmed\n",
       "1        2    Sayed\n",
       "2        3    Osama\n",
       "3        4     Adel\n",
       "4        5    Sayed\n",
       "5        6  Mahmoud\n",
       "6        7      Ali\n",
       "7        8    Kamel\n",
       "8        9  Ibrahim\n",
       "9       10     Enas"
      ]
     },
     "execution_count": 86,
     "metadata": {},
     "output_type": "execute_result"
    }
   ],
   "source": [
    "df"
   ]
  },
  {
   "cell_type": "code",
   "execution_count": 87,
   "metadata": {},
   "outputs": [
    {
     "data": {
      "text/plain": [
       "['arraysize',\n",
       " 'close',\n",
       " 'connection',\n",
       " 'description',\n",
       " 'execute',\n",
       " 'executemany',\n",
       " 'executescript',\n",
       " 'fetchall',\n",
       " 'fetchmany',\n",
       " 'fetchone',\n",
       " 'lastrowid',\n",
       " 'row_factory',\n",
       " 'rowcount',\n",
       " 'setinputsizes',\n",
       " 'setoutputsize']"
      ]
     },
     "execution_count": 87,
     "metadata": {},
     "output_type": "execute_result"
    }
   ],
   "source": [
    "#cr methods & attributes\n",
    "dir(cr)[25:]"
   ]
  },
  {
   "cell_type": "code",
   "execution_count": 88,
   "metadata": {},
   "outputs": [
    {
     "data": {
      "text/plain": [
       "(('name', None, None, None, None, None, None),)"
      ]
     },
     "execution_count": 88,
     "metadata": {},
     "output_type": "execute_result"
    }
   ],
   "source": [
    "# column names\n",
    "cr.description"
   ]
  },
  {
   "cell_type": "code",
   "execution_count": 89,
   "metadata": {},
   "outputs": [],
   "source": [
    "cr.close()\n",
    "db.close()\n"
   ]
  },
  {
   "cell_type": "markdown",
   "metadata": {},
   "source": [
    "# Databases - SQLite Update And Delete From Database"
   ]
  },
  {
   "cell_type": "code",
   "execution_count": 90,
   "metadata": {},
   "outputs": [],
   "source": [
    "db = sqlite3.connect('app.db')"
   ]
  },
  {
   "cell_type": "code",
   "execution_count": 91,
   "metadata": {},
   "outputs": [],
   "source": [
    "cr = db.cursor()"
   ]
  },
  {
   "cell_type": "code",
   "execution_count": 92,
   "metadata": {},
   "outputs": [
    {
     "data": {
      "text/plain": [
       "<sqlite3.Cursor at 0x1e8d1e45d50>"
      ]
     },
     "execution_count": 92,
     "metadata": {},
     "output_type": "execute_result"
    }
   ],
   "source": [
    "cr.execute(f'SELECT * FROM users')\n"
   ]
  },
  {
   "cell_type": "code",
   "execution_count": 93,
   "metadata": {},
   "outputs": [
    {
     "name": "stdout",
     "output_type": "stream",
     "text": [
      "[(1, 'Ahmed'), (2, 'Sayed'), (3, 'Osama'), (4, 'Adel'), (5, 'Sayed'), (6, 'Mahmoud'), (7, 'Ali'), (8, 'Kamel'), (9, 'Ibrahim'), (10, 'Enas')]\n"
     ]
    }
   ],
   "source": [
    "print(cr.fetchall())"
   ]
  },
  {
   "cell_type": "code",
   "execution_count": 94,
   "metadata": {},
   "outputs": [
    {
     "data": {
      "text/plain": [
       "<sqlite3.Cursor at 0x1e8d1e45d50>"
      ]
     },
     "execution_count": 94,
     "metadata": {},
     "output_type": "execute_result"
    }
   ],
   "source": [
    "cr.execute(\"update users set name = 'lisa' where name = 'Ahmed'\")"
   ]
  },
  {
   "cell_type": "code",
   "execution_count": 95,
   "metadata": {},
   "outputs": [
    {
     "data": {
      "text/plain": [
       "<sqlite3.Cursor at 0x1e8d1e45d50>"
      ]
     },
     "execution_count": 95,
     "metadata": {},
     "output_type": "execute_result"
    }
   ],
   "source": [
    "cr.execute(f'SELECT * FROM users')\n"
   ]
  },
  {
   "cell_type": "code",
   "execution_count": 96,
   "metadata": {},
   "outputs": [
    {
     "name": "stdout",
     "output_type": "stream",
     "text": [
      "[(1, 'lisa'), (2, 'Sayed'), (3, 'Osama'), (4, 'Adel'), (5, 'Sayed'), (6, 'Mahmoud'), (7, 'Ali'), (8, 'Kamel'), (9, 'Ibrahim'), (10, 'Enas')]\n"
     ]
    }
   ],
   "source": [
    "print(cr.fetchall())"
   ]
  },
  {
   "cell_type": "code",
   "execution_count": 97,
   "metadata": {},
   "outputs": [
    {
     "data": {
      "text/plain": [
       "<sqlite3.Cursor at 0x1e8d1e45d50>"
      ]
     },
     "execution_count": 97,
     "metadata": {},
     "output_type": "execute_result"
    }
   ],
   "source": [
    "cr.execute(\"DELETE from users where name = 'lisa'\")"
   ]
  },
  {
   "cell_type": "code",
   "execution_count": 98,
   "metadata": {},
   "outputs": [
    {
     "data": {
      "text/plain": [
       "<sqlite3.Cursor at 0x1e8d1e45d50>"
      ]
     },
     "execution_count": 98,
     "metadata": {},
     "output_type": "execute_result"
    }
   ],
   "source": [
    "cr.execute(f'SELECT * FROM users')\n"
   ]
  },
  {
   "cell_type": "code",
   "execution_count": 99,
   "metadata": {},
   "outputs": [
    {
     "name": "stdout",
     "output_type": "stream",
     "text": [
      "[(2, 'Sayed'), (3, 'Osama'), (4, 'Adel'), (5, 'Sayed'), (6, 'Mahmoud'), (7, 'Ali'), (8, 'Kamel'), (9, 'Ibrahim'), (10, 'Enas')]\n"
     ]
    }
   ],
   "source": [
    "print(cr.fetchall())"
   ]
  },
  {
   "cell_type": "code",
   "execution_count": 100,
   "metadata": {},
   "outputs": [],
   "source": [
    "cr.close()\n",
    "db.close()"
   ]
  },
  {
   "cell_type": "markdown",
   "metadata": {},
   "source": [
    "# Databases - SQLite Create Skills App"
   ]
  },
  {
   "cell_type": "code",
   "execution_count": 101,
   "metadata": {},
   "outputs": [],
   "source": [
    "def must_input(message):   \n",
    "    while True :\n",
    "         prog = input(message).strip()\n",
    "         if not prog :\n",
    "             continue\n",
    "         else :\n",
    "             break\n",
    "    return prog"
   ]
  },
  {
   "cell_type": "code",
   "execution_count": 102,
   "metadata": {},
   "outputs": [],
   "source": [
    "\n",
    "def get_user_input(message,options , errorMessage = \"please insert valid input\"):\n",
    "    while True:\n",
    "        print(\"Select an option:\")\n",
    "        for i, option in enumerate(options, start=1):\n",
    "            print(f\"{i}. {option}\")\n",
    "\n",
    "        try:\n",
    "            choice = input(message).strip()\n",
    "            #if choice.isupper() == False : choice = choice.capitalize()  \n",
    "            #else: choice = choice\n",
    "            if options.index(choice) <= len(options):\n",
    "                return choice\n",
    "            else:\n",
    "                print(errorMessage)\n",
    "        except ValueError:\n",
    "            print(errorMessage)"
   ]
  },
  {
   "cell_type": "code",
   "execution_count": 103,
   "metadata": {},
   "outputs": [],
   "source": [
    "db = sqlite3.connect('app.db')\n",
    "cr = db.cursor()"
   ]
  },
  {
   "cell_type": "code",
   "execution_count": 104,
   "metadata": {},
   "outputs": [],
   "source": [
    "import random"
   ]
  },
  {
   "cell_type": "code",
   "execution_count": 105,
   "metadata": {},
   "outputs": [],
   "source": [
    "uid=random.choice([1,3,4,5,8])"
   ]
  },
  {
   "cell_type": "code",
   "execution_count": 106,
   "metadata": {},
   "outputs": [
    {
     "name": "stdout",
     "output_type": "stream",
     "text": [
      " admin this time is : 1\n"
     ]
    }
   ],
   "source": [
    "print (f\" admin this time is : {uid}\")"
   ]
  },
  {
   "cell_type": "code",
   "execution_count": 107,
   "metadata": {},
   "outputs": [],
   "source": [
    "import sys"
   ]
  },
  {
   "cell_type": "code",
   "execution_count": 108,
   "metadata": {},
   "outputs": [],
   "source": [
    "admins = {\n",
    "    1: 'password1',\n",
    "    3: 'password3',\n",
    "    4: 'password4',\n",
    "    5: 'password5',\n",
    "    8: 'password8',\n",
    "}"
   ]
  },
  {
   "cell_type": "code",
   "execution_count": 109,
   "metadata": {},
   "outputs": [],
   "source": [
    "def admin_verification():\n",
    "    tries = 3\n",
    "    user = uid\n",
    "    password = input(f\" hello {user} please insert your password :\").strip()\n",
    "        \n",
    "    while password != admins[user] and tries > 0 :\n",
    "\n",
    "        tries -=1 \n",
    "        print(f\"incorrect password , you have {tries} remaining trials\")\n",
    "        password = input(\"please type your password\")\n",
    "\n",
    "\n",
    "    else:\n",
    "            if password == admins[user] :\n",
    "\n",
    "                print(f\"welcome {user} , password is correct\")\n",
    "            else:\n",
    "                \n",
    "                print(\"trials finished\")\n",
    "                sys.exit()\n",
    "                "
   ]
  },
  {
   "cell_type": "code",
   "execution_count": 110,
   "metadata": {},
   "outputs": [],
   "source": [
    "def commit_and_close() :\n",
    "    db.commit()\n",
    "    db.close()\n",
    "    print(\"connection to database is closed\") \n"
   ]
  },
  {
   "cell_type": "code",
   "execution_count": 111,
   "metadata": {},
   "outputs": [],
   "source": [
    "# -----------------------------------------------------\n",
    "# -- Databases => SQLite => Create Skills App Part 1 --\n",
    "# -----------------------------------------------------\n",
    "\n",
    "# verify user\n",
    "#admin_verification()\n",
    "\n",
    "# Input Big Message\n",
    "input_message = f\"\"\"\n",
    "Hello {uid}\n",
    "What Do You Want To Do ?\n",
    "\"s\" => Show All Skills\n",
    "\"a\" => Add New Skill\n",
    "\"d\" => Delete A Skill\n",
    "\"u\" => Update Skill Progress\n",
    "\"q\" => Quit The App\n",
    "Choose Option:\n",
    "\"\"\""
   ]
  },
  {
   "cell_type": "code",
   "execution_count": 112,
   "metadata": {},
   "outputs": [],
   "source": [
    "# Command List\n",
    "commands_list = [\"s\", \"a\", \"d\", \"u\", \"q\"]"
   ]
  },
  {
   "cell_type": "code",
   "execution_count": 113,
   "metadata": {},
   "outputs": [],
   "source": [
    "# Define The Methods\n",
    "\n",
    "def show_skills():\n",
    "\n",
    "  print(\"Show Skills\")\n",
    "  cr.execute(f\"select * from skills where user_id = {uid}\")\n",
    "  results = cr.fetchall()\n",
    "  if len(results) > 0 :\n",
    "     print(f\"we have {len(results)} skills in our table\")\n",
    "     for i , j ,k in results:\n",
    "         print(f\" skill {i} is found with level {j} %  of progress by user {k}\")\n",
    "  else :\n",
    "     print(\"no skills added yet\")\n",
    "     \n",
    "     \n",
    "\n",
    "\n",
    "def add_skill(sk=None):\n",
    "\n",
    "   # print(\"Add Skill\")\n",
    "     if sk==None :\n",
    "        sk = must_input(\"please insert your skill\").strip().capitalize()\n",
    "          \n",
    "     else : \n",
    "       sk=sk\n",
    "\n",
    "     prog = must_input(f\"write skill {sk} progress\").strip().capitalize()\n",
    "      \n",
    "\n",
    "     try :\n",
    "        \n",
    "         cr.execute(f\"insert into skills (name , progress , user_id) values ('{sk}' , '{prog}' , '{uid}')\")\n",
    "     except :\n",
    "        print(\"make a move\")\n",
    "        decision = get_user_input(f\"skill {sk} is already available for this user {uid} , Would you like to update it\" , [\"Yes\" , \"No\"])\n",
    "        if decision == \"Yes\" :\n",
    "           update_skill(sk)\n",
    "        else :\n",
    "           pass\n",
    "        \n",
    "    \n",
    "\n",
    "def delete_skill():\n",
    "  #user = input(\"user_id to delete skill for\")\n",
    "  sk = must_input(\"Skill Name to delete : \").strip().capitalize()\n",
    "  \n",
    "\n",
    "  #print(\"Delete Skill\")\n",
    "  cr.execute(f\"DELETE FROM skills where name = {sk} and user_id = {uid}\")\n",
    " \n",
    "\n",
    "def update_skill(sk=None):\n",
    "  #user = input(\"user_id to update skill for : \")\n",
    "  if sk==None:\n",
    "     sk = must_input(\"please insert a skill: \").strip().capitalize()\n",
    "  else :\n",
    "     pass\n",
    "  cr.execute(f\"select name FROM skills where user_id = {uid}\")\n",
    " \n",
    "  skills_available =  [item[0] for item in cr.fetchall()]\n",
    "  print (skills_available)\n",
    "  if sk not in skills_available :\n",
    "     decision = get_user_input(f\"skill {sk} is not valid for this user_id {uid} would you like to add it : \", ['Yes' , 'No'])\n",
    "     if decision == 'Yes' :\n",
    "        add_skill(sk)\n",
    "     else :\n",
    "        pass\n",
    "\n",
    "  else :\n",
    "     update_new_skill =get_user_input(\"you want to update skill name?\" ,[\"Yes\" , \"No\"])\n",
    "     if update_new_skill == \"Yes\":\n",
    "        new_skill = must_input(f\"please insert new skill instead of {sk}\")\n",
    "        try : \n",
    "           \n",
    "          cr.execute(f\" update skills  set name = '{new_skill}'  where user_id = {uid} and name = '{sk}'\")\n",
    "        except :\n",
    "           print(\"this skill {new_skill} is already valid for this user\")\n",
    "           pass\n",
    "           \n",
    "        \n",
    "     else:\n",
    "        new_skill = None\n",
    "     \n",
    "     update_new_progress =get_user_input(\"you want to update skill progress?\" ,[\"Yes\" , \"No\"])\n",
    "     if update_new_progress == \"Yes\":\n",
    "        new_skill_progress = must_input(f\"please insert new skill progress from 0 to 100 \")\n",
    "        if new_skill == None:\n",
    "           cr.execute(f\" update skills  set  progress = {new_skill_progress}  where user_id = {uid} and name = '{sk}'\")\n",
    "           \n",
    "        else : \n",
    "           cr.execute(f\" update skills  set  progress = {new_skill_progress}  where user_id = {uid} and name = '{new_skill}'\")\n",
    "      \n",
    "  \n",
    "  print(\"Update Skill Progress\")\n",
    "\n",
    "def quit_app() :\n",
    "   return False"
   ]
  },
  {
   "cell_type": "code",
   "execution_count": 114,
   "metadata": {},
   "outputs": [],
   "source": [
    "db = sqlite3.connect('app.db')\n",
    "cr = db.cursor()"
   ]
  },
  {
   "cell_type": "code",
   "execution_count": 115,
   "metadata": {},
   "outputs": [
    {
     "name": "stdout",
     "output_type": "stream",
     "text": [
      "connection to database is closed\n"
     ]
    }
   ],
   "source": [
    "commit_and_close()"
   ]
  },
  {
   "cell_type": "code",
   "execution_count": 116,
   "metadata": {},
   "outputs": [
    {
     "name": "stdout",
     "output_type": "stream",
     "text": [
      "connection to database is closed\n",
      "App Is Closed.\n"
     ]
    }
   ],
   "source": [
    "# Check If Command Is Exists\n",
    "while True:\n",
    "    db = sqlite3.connect('app.db')\n",
    "    cr = db.cursor()\n",
    "    # Input Option Choose\n",
    "    #user_input = get_user_input( input_message, commands_list , \"Sorry This Command Is Not Found\").strip().lower()\n",
    "    user_input =\"q\"\n",
    "    if user_input in commands_list:\n",
    "\n",
    "      # print(f\"Command Found {user_input}\")\n",
    "\n",
    "      if user_input == \"s\":\n",
    "\n",
    "        show_skills()\n",
    "\n",
    "      elif user_input == \"a\":\n",
    "\n",
    "        add_skill()\n",
    "\n",
    "      elif user_input == \"d\":\n",
    "\n",
    "        delete_skill()\n",
    "\n",
    "      elif user_input == \"u\":\n",
    "\n",
    "        update_skill()\n",
    "\n",
    "      else:\n",
    "        commit_and_close()\n",
    "        print(\"App Is Closed.\")\n",
    "        break"
   ]
  },
  {
   "cell_type": "code",
   "execution_count": 117,
   "metadata": {},
   "outputs": [],
   "source": [
    "db = sqlite3.connect('app.db')\n",
    "cr = db.cursor()"
   ]
  },
  {
   "cell_type": "code",
   "execution_count": 118,
   "metadata": {},
   "outputs": [
    {
     "data": {
      "text/plain": [
       "<sqlite3.Cursor at 0x1e8d1e983b0>"
      ]
     },
     "execution_count": 118,
     "metadata": {},
     "output_type": "execute_result"
    }
   ],
   "source": [
    "# cr.execute(f'delete  FROM skills where name=\"\" or progress = \"\"')\n",
    "# cr.execute(f'delete  FROM skills where name=lower(name)')\n",
    "\n",
    "# commit_and_close()\n",
    "\n",
    "db = sqlite3.connect('app.db')\n",
    "cr = db.cursor()\n",
    "\n",
    "cr.execute(f'SELECT  * FROM skills')\n"
   ]
  },
  {
   "cell_type": "code",
   "execution_count": 119,
   "metadata": {},
   "outputs": [
    {
     "name": "stdout",
     "output_type": "stream",
     "text": [
      "[('Python', 87, 3), ('Pandas', 93, 3), ('Sql', 98, 4), ('Php', 88, 1), ('Javascript', 78, 5), ('Sql', 88, 3), ('Sql', 22, 1), ('Sql', 68, 8), ('Dsfg', 45, 3), ('Sql', 33, 5)]\n"
     ]
    }
   ],
   "source": [
    "print(cr.fetchall())"
   ]
  },
  {
   "cell_type": "code",
   "execution_count": 120,
   "metadata": {},
   "outputs": [
    {
     "name": "stdout",
     "output_type": "stream",
     "text": [
      "Skill Name => Sql, Skill Progress => 98, User ID => 4\n",
      "Skill Name => Javascript, Skill Progress => 78, User ID => 5\n",
      "Skill Name => Sql, Skill Progress => 68, User ID => 8\n",
      "Skill Name => Sql, Skill Progress => 33, User ID => 5\n"
     ]
    }
   ],
   "source": [
    "# --------------------------------------------------------\n",
    "# -- Databases => SQLite => Very Important Informations --\n",
    "# --------------------------------------------------------\n",
    "\n",
    "# Import SQLite Module\n",
    "import sqlite3\n",
    "\n",
    "# Create Database And Connect\n",
    "db = sqlite3.connect(\"app.db\")\n",
    "\n",
    "# Setting Up The Cursor\n",
    "cr = db.cursor()\n",
    "\n",
    "my_tuple = ('Pascal', '65', 4)\n",
    "\n",
    "# Inserting Data\n",
    "# cr.execute(\"insert into skills values(?, ?, ?)\", my_tuple)\n",
    "\n",
    "# Fetch Data From Database\n",
    "# cr.execute(\"select * from skills order by name limit 3 offset 2\")\n",
    "# cr.execute(\"select * from skills where user_id > 1\")\n",
    "cr.execute(\"select * from skills where user_id not in(1, 2, 3)\")\n",
    "\n",
    "# Assign Data To Variable\n",
    "results = cr.fetchall()\n",
    "\n",
    "# Loop On Results\n",
    "for row in results:\n",
    "\n",
    "  print(f\"Skill Name => {row[0]},\", end=\" \")\n",
    "  print(f\"Skill Progress => {row[1]},\", end=\" \")\n",
    "  print(f\"User ID => {row[2]}\")\n",
    "\n",
    "# Save (Commit) Changes\n",
    "db.commit()\n",
    "\n",
    "# Close Database\n",
    "db.close()"
   ]
  },
  {
   "cell_type": "code",
   "execution_count": 121,
   "metadata": {},
   "outputs": [
    {
     "name": "stdout",
     "output_type": "stream",
     "text": [
      "__main__\n"
     ]
    }
   ],
   "source": [
    "# -------------------------------------------------\n",
    "# -- Advanced_Lessons => __name__ And \"__main__\" --\n",
    "# -------------------------------------------------\n",
    "# if __name__ == \"__main__\":\n",
    "# - __name__ => Built In Variable\n",
    "# - \"__main__\" => Value Of The __name__ Variable\n",
    "# Executions Methods\n",
    "# - Directly => Execute the Python File Using the Command Line.\n",
    "# - From Import => Import The Code From File To Another File\n",
    "# -------------------------------------------------------------\n",
    "# In Some Cases You Want To Know If You Are Using A Module Method As Import\n",
    "# Or You Use The Original Python File\n",
    "# -------------------------------------------------------------------------\n",
    "# In Direct Mode Python Assign A Value \"__main__\"\n",
    "# To The Built In Variable __name__ in The Background\n",
    "# ---------------------------------------------------\n",
    "\n",
    "print(__name__)"
   ]
  },
  {
   "cell_type": "markdown",
   "metadata": {},
   "source": [
    "#  Advanced Lessons – Timing Your Code With Timeit"
   ]
  },
  {
   "cell_type": "code",
   "execution_count": 122,
   "metadata": {},
   "outputs": [
    {
     "data": {
      "text/plain": [
       "['Timer',\n",
       " '__all__',\n",
       " '__builtins__',\n",
       " '__cached__',\n",
       " '__doc__',\n",
       " '__file__',\n",
       " '__loader__',\n",
       " '__name__',\n",
       " '__package__',\n",
       " '__spec__',\n",
       " '_globals',\n",
       " 'default_number',\n",
       " 'default_repeat',\n",
       " 'default_timer',\n",
       " 'dummy_src_name',\n",
       " 'gc',\n",
       " 'itertools',\n",
       " 'main',\n",
       " 'reindent',\n",
       " 'repeat',\n",
       " 'sys',\n",
       " 'template',\n",
       " 'time',\n",
       " 'timeit']"
      ]
     },
     "execution_count": 122,
     "metadata": {},
     "output_type": "execute_result"
    }
   ],
   "source": [
    "import timeit\n",
    "\n",
    "dir(timeit)"
   ]
  },
  {
   "cell_type": "code",
   "execution_count": 123,
   "metadata": {},
   "outputs": [
    {
     "name": "stdout",
     "output_type": "stream",
     "text": [
      "0.26374170000000063\n"
     ]
    }
   ],
   "source": [
    "print(timeit.timeit(\"'Elzero' * 1000\"))\n"
   ]
  },
  {
   "cell_type": "code",
   "execution_count": 124,
   "metadata": {},
   "outputs": [
    {
     "name": "stdout",
     "output_type": "stream",
     "text": [
      "ElzeroElzeroElzeroElzeroElzeroElzeroElzeroElzeroElzeroElzeroElzeroElzeroElzeroElzeroElzeroElzeroElzeroElzeroElzeroElzeroElzeroElzeroElzeroElzeroElzeroElzeroElzeroElzeroElzeroElzeroElzeroElzeroElzeroElzeroElzeroElzeroElzeroElzeroElzeroElzeroElzeroElzeroElzeroElzeroElzeroElzeroElzeroElzeroElzeroElzeroElzeroElzeroElzeroElzeroElzeroElzeroElzeroElzeroElzeroElzeroElzeroElzeroElzeroElzeroElzeroElzeroElzeroElzeroElzeroElzeroElzeroElzeroElzeroElzeroElzeroElzeroElzeroElzeroElzeroElzeroElzeroElzeroElzeroElzeroElzeroElzeroElzeroElzeroElzeroElzeroElzeroElzeroElzeroElzeroElzeroElzeroElzeroElzeroElzeroElzeroElzeroElzeroElzeroElzeroElzeroElzeroElzeroElzeroElzeroElzeroElzeroElzeroElzeroElzeroElzeroElzeroElzeroElzeroElzeroElzeroElzeroElzeroElzeroElzeroElzeroElzeroElzeroElzeroElzeroElzeroElzeroElzeroElzeroElzeroElzeroElzeroElzeroElzeroElzeroElzeroElzeroElzeroElzeroElzeroElzeroElzeroElzeroElzeroElzeroElzeroElzeroElzeroElzeroElzeroElzeroElzeroElzeroElzeroElzeroElzeroElzeroElzeroElzeroElzeroElzeroElzeroElzeroElzeroElzeroElzeroElzeroElzeroElzeroElzeroElzeroElzeroElzeroElzeroElzeroElzeroElzeroElzeroElzeroElzeroElzeroElzeroElzeroElzeroElzeroElzeroElzeroElzeroElzeroElzeroElzeroElzeroElzeroElzeroElzeroElzeroElzeroElzeroElzeroElzeroElzeroElzeroElzeroElzeroElzeroElzeroElzeroElzeroElzeroElzeroElzeroElzeroElzeroElzeroElzeroElzeroElzeroElzeroElzeroElzeroElzeroElzeroElzeroElzeroElzeroElzeroElzeroElzeroElzeroElzeroElzeroElzeroElzeroElzeroElzeroElzeroElzeroElzeroElzeroElzeroElzeroElzeroElzeroElzeroElzeroElzeroElzeroElzeroElzeroElzeroElzeroElzeroElzeroElzeroElzeroElzeroElzeroElzeroElzeroElzeroElzeroElzeroElzeroElzeroElzeroElzeroElzeroElzeroElzeroElzeroElzeroElzeroElzeroElzeroElzeroElzeroElzeroElzeroElzeroElzeroElzeroElzeroElzeroElzeroElzeroElzeroElzeroElzeroElzeroElzeroElzeroElzeroElzeroElzeroElzeroElzeroElzeroElzeroElzeroElzeroElzeroElzeroElzeroElzeroElzeroElzeroElzeroElzeroElzeroElzeroElzeroElzeroElzeroElzeroElzeroElzeroElzeroElzeroElzeroElzeroElzeroElzeroElzeroElzeroElzeroElzeroElzeroElzeroElzeroElzeroElzeroElzeroElzeroElzeroElzeroElzeroElzeroElzeroElzeroElzeroElzeroElzeroElzeroElzeroElzeroElzeroElzeroElzeroElzeroElzeroElzeroElzeroElzeroElzeroElzeroElzeroElzeroElzeroElzeroElzeroElzeroElzeroElzeroElzeroElzeroElzeroElzeroElzeroElzeroElzeroElzeroElzeroElzeroElzeroElzeroElzeroElzeroElzeroElzeroElzeroElzeroElzeroElzeroElzeroElzeroElzeroElzeroElzeroElzeroElzeroElzeroElzeroElzeroElzeroElzeroElzeroElzeroElzeroElzeroElzeroElzeroElzeroElzeroElzeroElzeroElzeroElzeroElzeroElzeroElzeroElzeroElzeroElzeroElzeroElzeroElzeroElzeroElzeroElzeroElzeroElzeroElzeroElzeroElzeroElzeroElzeroElzeroElzeroElzeroElzeroElzeroElzeroElzeroElzeroElzeroElzeroElzeroElzeroElzeroElzeroElzeroElzeroElzeroElzeroElzeroElzeroElzeroElzeroElzeroElzeroElzeroElzeroElzeroElzeroElzeroElzeroElzeroElzeroElzeroElzeroElzeroElzeroElzeroElzeroElzeroElzeroElzeroElzeroElzeroElzeroElzeroElzeroElzeroElzeroElzeroElzeroElzeroElzeroElzeroElzeroElzeroElzeroElzeroElzeroElzeroElzeroElzeroElzeroElzeroElzeroElzeroElzeroElzeroElzeroElzeroElzeroElzeroElzeroElzeroElzeroElzeroElzeroElzeroElzeroElzeroElzeroElzeroElzeroElzeroElzeroElzeroElzeroElzeroElzeroElzeroElzeroElzeroElzeroElzeroElzeroElzeroElzeroElzeroElzeroElzeroElzeroElzeroElzeroElzeroElzeroElzeroElzeroElzeroElzeroElzeroElzeroElzeroElzeroElzeroElzeroElzeroElzeroElzeroElzeroElzeroElzeroElzeroElzeroElzeroElzeroElzeroElzeroElzeroElzeroElzeroElzeroElzeroElzeroElzeroElzeroElzeroElzeroElzeroElzeroElzeroElzeroElzeroElzeroElzeroElzeroElzeroElzeroElzeroElzeroElzeroElzeroElzeroElzeroElzeroElzeroElzeroElzeroElzeroElzeroElzeroElzeroElzeroElzeroElzeroElzeroElzeroElzeroElzeroElzeroElzeroElzeroElzeroElzeroElzeroElzeroElzeroElzeroElzeroElzeroElzeroElzeroElzeroElzeroElzeroElzeroElzeroElzeroElzeroElzeroElzeroElzeroElzeroElzeroElzeroElzeroElzeroElzeroElzeroElzeroElzeroElzeroElzeroElzeroElzeroElzeroElzeroElzeroElzeroElzeroElzeroElzeroElzeroElzeroElzeroElzeroElzeroElzeroElzeroElzeroElzeroElzeroElzeroElzeroElzeroElzeroElzeroElzeroElzeroElzeroElzeroElzeroElzeroElzeroElzeroElzeroElzeroElzeroElzeroElzeroElzeroElzeroElzeroElzeroElzeroElzeroElzeroElzeroElzeroElzeroElzeroElzeroElzeroElzeroElzeroElzeroElzeroElzeroElzeroElzeroElzeroElzeroElzeroElzeroElzeroElzeroElzeroElzeroElzeroElzeroElzeroElzeroElzeroElzeroElzeroElzeroElzeroElzeroElzeroElzeroElzeroElzeroElzeroElzeroElzeroElzeroElzeroElzeroElzeroElzeroElzeroElzeroElzeroElzeroElzeroElzeroElzeroElzeroElzeroElzeroElzeroElzeroElzeroElzeroElzeroElzeroElzeroElzeroElzeroElzeroElzeroElzeroElzeroElzeroElzeroElzeroElzeroElzeroElzeroElzeroElzeroElzeroElzeroElzeroElzeroElzeroElzeroElzeroElzeroElzeroElzeroElzeroElzeroElzeroElzeroElzeroElzeroElzeroElzeroElzeroElzeroElzeroElzeroElzeroElzeroElzeroElzeroElzeroElzeroElzeroElzeroElzeroElzeroElzeroElzeroElzeroElzeroElzeroElzeroElzeroElzeroElzeroElzeroElzeroElzeroElzeroElzeroElzeroElzeroElzeroElzeroElzeroElzeroElzeroElzeroElzeroElzeroElzeroElzeroElzeroElzeroElzeroElzeroElzeroElzeroElzeroElzeroElzeroElzeroElzeroElzeroElzeroElzeroElzeroElzeroElzeroElzeroElzeroElzeroElzeroElzeroElzeroElzeroElzeroElzeroElzeroElzeroElzeroElzeroElzeroElzeroElzeroElzeroElzeroElzeroElzeroElzeroElzeroElzeroElzeroElzeroElzeroElzeroElzeroElzeroElzeroElzeroElzeroElzeroElzeroElzeroElzeroElzeroElzeroElzeroElzeroElzeroElzeroElzeroElzeroElzeroElzeroElzeroElzeroElzeroElzeroElzeroElzeroElzeroElzeroElzeroElzeroElzeroElzeroElzeroElzeroElzeroElzeroElzeroElzeroElzeroElzeroElzeroElzeroElzeroElzeroElzeroElzeroElzeroElzeroElzeroElzeroElzeroElzeroElzeroElzeroElzeroElzeroElzeroElzeroElzeroElzeroElzeroElzeroElzeroElzeroElzeroElzeroElzeroElzeroElzeroElzeroElzeroElzeroElzeroElzeroElzeroElzeroElzeroElzeroElzeroElzeroElzeroElzeroElzeroElzeroElzeroElzeroElzeroElzeroElzeroElzeroElzeroElzeroElzeroElzeroElzeroElzeroElzeroElzeroElzeroElzeroElzeroElzeroElzeroElzeroElzeroElzeroElzeroElzeroElzeroElzeroElzeroElzeroElzeroElzeroElzeroElzeroElzeroElzeroElzeroElzeroElzeroElzeroElzeroElzeroElzeroElzeroElzeroElzeroElzeroElzeroElzeroElzeroElzeroElzeroElzeroElzeroElzeroElzeroElzeroElzeroElzeroElzeroElzeroElzeroElzeroElzeroElzeroElzeroElzeroElzero\n",
      "0.0\n"
     ]
    }
   ],
   "source": [
    "import time\n",
    "starttime = (time.time())\n",
    "print('Elzero' * 1000)\n",
    "endtime = (time.time())\n",
    "\n",
    "print(endtime - starttime)"
   ]
  },
  {
   "cell_type": "code",
   "execution_count": 125,
   "metadata": {},
   "outputs": [
    {
     "name": "stdout",
     "output_type": "stream",
     "text": [
      "0.23966010000000004\n"
     ]
    }
   ],
   "source": [
    "print(timeit.timeit(\"name = 'Elzero'; name * 1000\"))"
   ]
  },
  {
   "cell_type": "code",
   "execution_count": 126,
   "metadata": {},
   "outputs": [
    {
     "name": "stdout",
     "output_type": "stream",
     "text": [
      "[0.6655238000000008, 0.7253024000000003, 0.682886700000001, 0.6916612999999998]\n"
     ]
    }
   ],
   "source": [
    "# repeating the million executions 4 times\n",
    "print(timeit.repeat(stmt=\"random.randint(0, 50)\", setup=\"import random\", repeat=4))\n"
   ]
  },
  {
   "cell_type": "markdown",
   "metadata": {},
   "source": [
    "#  Advanced Lessons – Timing Your Code With Timeit"
   ]
  },
  {
   "cell_type": "markdown",
   "metadata": {},
   "source": []
  },
  {
   "cell_type": "code",
   "execution_count": 127,
   "metadata": {},
   "outputs": [],
   "source": [
    "# --------------------------------------------------\n",
    "# -- Advanced_Lessons => Add Logging To Your Code --\n",
    "# --------------------------------------------------\n",
    "# - Print Out To Console Or File\n",
    "# - Print Logs Of What Happens\n",
    "# ------------------------------\n",
    "# - DEBUG\n",
    "# - INFO\n",
    "# - WARNING\n",
    "# - ERROR\n",
    "# - CRITICAL\n",
    "# ----------\n",
    "# name => Logging Module Give It To The Default Logger.\n",
    "# -----------------------------------------------------\n",
    "# Basic Config\n",
    "# - level => Level of Severity\n",
    "# - filename => File Name and Extension\n",
    "# - mode => Mode Of The File a => Append\n",
    "# - format => Format For The Log Message\n",
    "# ------------------------\n",
    "# getLogger => Return a Logger With the Specified Name\n"
   ]
  },
  {
   "cell_type": "code",
   "execution_count": 128,
   "metadata": {},
   "outputs": [],
   "source": [
    "import logging\n",
    "\n",
    "#logging.basicConfig(filename=\"my_app.log\" , filemode=\"a\" )\n",
    "\n",
    "logging.basicConfig(filename=\"my_app.log\" , filemode=\"w\" ,\n",
    "                     format = \"%(name)s we got error '%(message)s'--> %(levelname)s at (%(asctime)s)\"\n",
    "                     ,datefmt=\"%d - %B - %Y, %H:%M:%S\")\n",
    "logging.critical(\"SO F****\")"
   ]
  },
  {
   "cell_type": "code",
   "execution_count": 129,
   "metadata": {},
   "outputs": [],
   "source": [
    "my_logger = logging.getLogger(\"Alex.alk92\")"
   ]
  },
  {
   "cell_type": "code",
   "execution_count": 130,
   "metadata": {},
   "outputs": [],
   "source": [
    "logging.basicConfig(filename=\"my_app.log\" , filemode=\"a\" ,\n",
    "                     format = \"%(name)s we got error '%(message)s'--> %(levelname)s at (%(asctime)s)\"\n",
    "                     ,datefmt=\"%d - %B - %Y, %H:%M:%S\" )\n",
    "logging.warning(\"SO F****\")\n",
    "my_logger.warning(\"SO F****\")"
   ]
  },
  {
   "cell_type": "markdown",
   "metadata": {},
   "source": [
    "#  Advanced Lessons - Unit Testing With Unittest"
   ]
  },
  {
   "cell_type": "code",
   "execution_count": 131,
   "metadata": {},
   "outputs": [
    {
     "name": "stdout",
     "output_type": "stream",
     "text": [
      "at least one case not passed\n",
      " all tested\n"
     ]
    }
   ],
   "source": [
    "def test_case_one() :\n",
    "    assert 5*20 == 100 , \"should be 50\"\n",
    "def test_case_two():\n",
    "    assert 4*60 == 50 , \"should be 50\"\n",
    "\n",
    "try : \n",
    "\n",
    "    if __name__ == \"__main__\" :\n",
    "      test_case_one() \n",
    "      test_case_two()\n",
    "except AssertionError:\n",
    "    print (\"at least one case not passed\")\n",
    "\n",
    "print(\" all tested\")"
   ]
  },
  {
   "cell_type": "code",
   "execution_count": 132,
   "metadata": {},
   "outputs": [],
   "source": [
    "from  unittest import TestCase\n",
    "import unittest\n"
   ]
  },
  {
   "cell_type": "code",
   "execution_count": 133,
   "metadata": {},
   "outputs": [],
   "source": [
    "\n",
    "# class myTestOne(TestCase):\n",
    "#     def test_one(self):\n",
    "#         self.assertTrue(100 > 99 , \"Shoul be True\")\n",
    "#     def test_two(self):\n",
    "#         self.assertEqual(40+60 , 100 , \"should be 100\")\n",
    "\n",
    "\n",
    "# if __name__ == \"__main__\":\n",
    "#     unittest.main()"
   ]
  },
  {
   "cell_type": "markdown",
   "metadata": {},
   "source": [
    "# random password generate"
   ]
  },
  {
   "cell_type": "code",
   "execution_count": 150,
   "metadata": {},
   "outputs": [],
   "source": [
    "import string\n",
    "import random\n",
    "\n",
    "all_chars=string.ascii_letters + string.digits \n",
    "\n",
    "index=[random.randint(0, len(all_chars)-1) for _ in range(20)]\n",
    "\n",
    "password = \"\".join(all_chars[i] for i in index)\n"
   ]
  },
  {
   "cell_type": "code",
   "execution_count": 147,
   "metadata": {},
   "outputs": [
    {
     "data": {
      "text/plain": [
       "'l9NuWT7jFkYo9EVYsq3R'"
      ]
     },
     "execution_count": 147,
     "metadata": {},
     "output_type": "execute_result"
    }
   ],
   "source": [
    "password"
   ]
  },
  {
   "cell_type": "markdown",
   "metadata": {},
   "source": [
    "#  Flask - Intro And Your First Page"
   ]
  },
  {
   "cell_type": "code",
   "execution_count": 145,
   "metadata": {},
   "outputs": [
    {
     "name": "stdout",
     "output_type": "stream",
     "text": [
      " * Serving Flask app \"__main__\" (lazy loading)\n",
      " * Environment: production\n",
      "\u001b[31m   WARNING: This is a development server. Do not use it in a production deployment.\u001b[0m\n",
      "\u001b[2m   Use a production WSGI server instead.\u001b[0m\n",
      " * Debug mode: on\n"
     ]
    },
    {
     "ename": "SystemExit",
     "evalue": "1",
     "output_type": "error",
     "traceback": [
      "An exception has occurred, use %tb to see the full traceback.\n",
      "\u001b[1;31mSystemExit\u001b[0m\u001b[1;31m:\u001b[0m 1\n"
     ]
    },
    {
     "name": "stderr",
     "output_type": "stream",
     "text": [
      "c:\\Users\\Ahmed.H\\Anaconda3\\lib\\site-packages\\IPython\\core\\interactiveshell.py:3465: UserWarning: To exit: use 'exit', 'quit', or Ctrl-D.\n",
      "  warn(\"To exit: use 'exit', 'quit', or Ctrl-D.\", stacklevel=1)\n"
     ]
    }
   ],
   "source": [
    "# ----------------------------------------\n",
    "# -- Flask => Intro and Your First Page --\n",
    "# ----------------------------------------\n",
    "# - Flask Is Micro Framework Built With Python\n",
    "# --------------------------------------------\n",
    "# - HTML\n",
    "# - CSS\n",
    "# - JavaScript\n",
    "# --------------------------------------------\n",
    "\n",
    "from flask import Flask\n",
    "\n",
    "skills_app = Flask(__name__)\n",
    "\n",
    "@skills_app.route(\"/\")\n",
    "def homepage():\n",
    "  return \"Hello From Flask Framework\"\n",
    "\n",
    "@skills_app.route(\"/about\")\n",
    "def about():\n",
    "  return \"About Page From Flask Framework\"\n",
    "\n",
    "if __name__ == \"__main__\":\n",
    "  skills_app.run(debug=True)"
   ]
  }
 ],
 "metadata": {
  "kernelspec": {
   "display_name": "base",
   "language": "python",
   "name": "python3"
  },
  "language_info": {
   "codemirror_mode": {
    "name": "ipython",
    "version": 3
   },
   "file_extension": ".py",
   "mimetype": "text/x-python",
   "name": "python",
   "nbconvert_exporter": "python",
   "pygments_lexer": "ipython3",
   "version": "3.9.18"
  }
 },
 "nbformat": 4,
 "nbformat_minor": 2
}
